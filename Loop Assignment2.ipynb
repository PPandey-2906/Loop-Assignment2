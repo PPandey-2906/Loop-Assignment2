{
 "cells": [
  {
   "cell_type": "code",
   "execution_count": 45,
   "id": "38f18def-64cb-487c-ab50-7872f4ce714d",
   "metadata": {},
   "outputs": [
    {
     "name": "stdout",
     "output_type": "stream",
     "text": [
      "Email Address = RajPatel@gmail.com\n",
      "Email Address = PriyaSharma@gmail.com\n",
      "Email Address = AmitKumar@gmail.com\n",
      "Email Address = NehaSingh@gmail.com\n"
     ]
    }
   ],
   "source": [
    "#You have a nested list as below:\n",
    "#indian_employees = [[\"Raj\", \"Patel\"], [\"Priya\", \"Sharma\"],[\"Amit\", \"Kumar\"],[\"Neha\", \"Singh\"]]\n",
    "#your have to create an email address for each employee.\n",
    "#Email address should be there firstname+lastname@gmail.com\n",
    "\n",
    "#Expected output:\n",
    "#RajPatel@gmail.com\n",
    "#PriyaSharma@gmail.com\n",
    "#You have to create email addresses for each employee.\n",
    "\n",
    "\n",
    "\n",
    "indian_employees= [[\"Raj\", \"Patel\"], [\"Priya\", \"Sharma\"],[\"Amit\", \"Kumar\"],[\"Neha\", \"Singh\"]]\n",
    "add = \"@gmail.com\"\n",
    "for employee in indian_employees:\n",
    "    email_address = employee[0] + employee[1] + add\n",
    "    print(\"Email Address =\",email_address)\n",
    "\n",
    "\n",
    "                                  "
   ]
  },
  {
   "cell_type": "code",
   "execution_count": null,
   "id": "b149c42a-c93d-4b7d-aa2c-46866ab19e03",
   "metadata": {},
   "outputs": [],
   "source": []
  }
 ],
 "metadata": {
  "kernelspec": {
   "display_name": "Python 3 (ipykernel)",
   "language": "python",
   "name": "python3"
  },
  "language_info": {
   "codemirror_mode": {
    "name": "ipython",
    "version": 3
   },
   "file_extension": ".py",
   "mimetype": "text/x-python",
   "name": "python",
   "nbconvert_exporter": "python",
   "pygments_lexer": "ipython3",
   "version": "3.12.4"
  }
 },
 "nbformat": 4,
 "nbformat_minor": 5
}
